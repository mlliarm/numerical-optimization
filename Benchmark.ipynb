{
 "cells": [
  {
   "cell_type": "markdown",
   "metadata": {},
   "source": [
    "# ΣΥΓΚΡΙΣΗ ΜΕΘΟΔΩΝ ΒΕΛΤΙΣΤΟΠΟΙΗΣΗΣ ΣΕ ΓΝΩΣΤΑ ΠΡΟΒΛΗΜΑΤΑ"
   ]
  },
  {
   "cell_type": "markdown",
   "metadata": {},
   "source": [
    "## 1) Κλήση των μεθόδων από την SciPy"
   ]
  },
  {
   "cell_type": "code",
   "execution_count": 56,
   "metadata": {
    "collapsed": false
   },
   "outputs": [],
   "source": [
    "from scipy.optimize import minimize, basinhopping\n",
    "import numpy as np"
   ]
  },
  {
   "cell_type": "markdown",
   "metadata": {},
   "source": [
    "### α) BFGS"
   ]
  },
  {
   "cell_type": "code",
   "execution_count": 35,
   "metadata": {
    "collapsed": true
   },
   "outputs": [],
   "source": [
    "def bfgs_method(fun, x0, jac=None, hess=None, hessp=None, tol=None, callback=None, options=None):\n",
    "    return minimize(fun, x0,'BFGS', jac, hess, hessp, tol, callback, options)"
   ]
  },
  {
   "cell_type": "markdown",
   "metadata": {},
   "source": [
    "### β) Newton Conjugate Gradient"
   ]
  },
  {
   "cell_type": "code",
   "execution_count": 38,
   "metadata": {
    "collapsed": true
   },
   "outputs": [],
   "source": [
    "def newtonCG_method(fun, x0, jac=None, hess=None, hessp=None, tol=None, callback=None, options=None):\n",
    "    return minimize(fun, x0, 'Newton-CG', jac, hess, hessp, tol, callback, options)"
   ]
  },
  {
   "cell_type": "markdown",
   "metadata": {},
   "source": [
    "### γ) Conjugate Gradient"
   ]
  },
  {
   "cell_type": "code",
   "execution_count": 39,
   "metadata": {
    "collapsed": true
   },
   "outputs": [],
   "source": [
    "def CG_method(fun, x0, jac=None, hess=None, hessp=None, tol=None, callback=None, options=None):\n",
    "    return minimize(fun, x0, args, 'CG',  jac, hess, hessp, tol, callback, options)"
   ]
  },
  {
   "cell_type": "markdown",
   "metadata": {},
   "source": [
    "### δ) Powell"
   ]
  },
  {
   "cell_type": "code",
   "execution_count": 41,
   "metadata": {
    "collapsed": true
   },
   "outputs": [],
   "source": [
    "def powell_method(fun, x0, jac=None, hess=None, hessp=None, tol=None, callback=None, options=None):\n",
    "    return minimize(fun, x0, args, 'Powell',jac, hess, hessp, tol, callback, options)"
   ]
  },
  {
   "cell_type": "markdown",
   "metadata": {},
   "source": [
    "### ε) Nelder Mead"
   ]
  },
  {
   "cell_type": "code",
   "execution_count": 42,
   "metadata": {
    "collapsed": true
   },
   "outputs": [],
   "source": [
    "def nelderMead_method(fun, x0, jac=None, hess=None, hessp=None, tol=None, callback=None, options=None):\n",
    "    return minimize(fun, x0, args, 'Nelder-Mead',jac, hess, hessp, tol, callback, options)"
   ]
  },
  {
   "cell_type": "markdown",
   "metadata": {},
   "source": [
    "### στ) Στοχαστική Ανόπτηση"
   ]
  },
  {
   "cell_type": "code",
   "execution_count": 54,
   "metadata": {
    "collapsed": true
   },
   "outputs": [],
   "source": [
    "def anneal_method(fun, x0, niter=100, T=1.0, stepsize=0.5, minimizer_kwargs=None,take_step=None,\n",
    "                  accept_test=None,callback=None, interval=50, disp=False, niter_success=None):\n",
    "    return basinhopping(fun, x0, niter, T, stepsize, minimizer_kwargs,take_step, \n",
    "                        accept_test, callback, interval, disp, niter_success)"
   ]
  },
  {
   "cell_type": "markdown",
   "metadata": {},
   "source": [
    "### Όλες οι μέθοδοι σε μία συνάρτηση."
   ]
  },
  {
   "cell_type": "code",
   "execution_count": 71,
   "metadata": {
    "collapsed": false
   },
   "outputs": [],
   "source": [
    "def optim_methods(fun, x0, jac=None, hes=None):\n",
    "    return [bfgs_method(fun, x0, jac, hes), newtonCG_method(fun, x0, jac, hes), CG_method(fun, x0, jac, hes), \n",
    "            powell_method(fun, x0, jac, hes), nelderMead_method(fun, x0, jac, hes), \n",
    "            anneal_method(fun, x0, jac, hes)]"
   ]
  },
  {
   "cell_type": "markdown",
   "metadata": {},
   "source": [
    "## 2) Οι συναρτήσεις προς βελτιστοποίηση:"
   ]
  },
  {
   "cell_type": "code",
   "execution_count": 21,
   "metadata": {
    "collapsed": true
   },
   "outputs": [],
   "source": [
    "import math as m\n",
    "import scipy\n",
    "def square(x): return x*x"
   ]
  },
  {
   "cell_type": "markdown",
   "metadata": {},
   "source": [
    "#### Οι ακόλουθες συναρτήσεις είναι εξειδικευμένες στο πρόβλημα της βελτιστοποίησης χωρίς περιορισμούς όπως αναφέρουν οι More et al \\cite{}. \n",
    "\n",
    "#### Από το εν λόγω paper οι αύξοντες αριθμοί των συναρτήσεων (μετά από ταξινόμηση) είναι οι ακόλουθοι: (3, 4, 5, 7, 9, 11, 12, 14, 16, 18, 20, 21, 22, 23, 24, 25, 26, 35), στο πλήθος δεκαοχτώ και αντιστοιχούν παρακάτω στα λατινικά γράμματα από το a μέχρι το r.\n",
    "\n",
    "#### Πριν τον ορισμό της κάθε συνάρτησης δίνονται οι δοκιμασμένες τιμές της αρχικής τιμής του διανύσματος (x,y), η βέλτιστη τιμή και η τιμή της f(x,y) στο ακρότατο."
   ]
  },
  {
   "cell_type": "markdown",
   "metadata": {},
   "source": [
    "### a) Συνάρτηση (badly scaled) του Powell (3)"
   ]
  },
  {
   "cell_type": "code",
   "execution_count": 46,
   "metadata": {
    "collapsed": true
   },
   "outputs": [],
   "source": [
    "'''\n",
    "x0 = (0,1)\n",
    "x* = (1.098E-5, 9.106)\n",
    "f(x*) = 0  \n",
    "'''\n",
    "def f1a(x,y): return (10**4)*x*y - 1\n",
    "def f2a(x,y): return (m.exp(-x) + m.exp(-y) - 1.0001)\n",
    "def powell_func(x,y): return square(f1a(x,y)) + square(f2a(x,y))"
   ]
  },
  {
   "cell_type": "code",
   "execution_count": 70,
   "metadata": {
    "collapsed": false
   },
   "outputs": [],
   "source": [
    "x0 = np.ndarray([0,1])\n",
    "# optim_methods(powell_func, x0)"
   ]
  },
  {
   "cell_type": "code",
   "execution_count": 69,
   "metadata": {
    "collapsed": false
   },
   "outputs": [],
   "source": [
    "#anneal_method(powell_func,np.ndarray([0,1]))"
   ]
  },
  {
   "cell_type": "markdown",
   "metadata": {},
   "source": [
    "### b) Συνάρτηση (badly scaled) του Brown (4)"
   ]
  },
  {
   "cell_type": "code",
   "execution_count": 23,
   "metadata": {
    "collapsed": true
   },
   "outputs": [],
   "source": [
    "''''\n",
    "x0 = (1, 1)\n",
    "x* = (10^6, 2E-6)\n",
    "f(x*) = 0\n",
    "'''\n",
    "def f1b(x,y): return x - 10**6\n",
    "def f2b(x,y): return y - 2*10**(-6)\n",
    "def f3b(x,y): return x*y - 2\n",
    "def brown_func(x,y): return square(f1b(x,y)) + square(f2b(x,y)) + square(f3b(x,y))\n"
   ]
  },
  {
   "cell_type": "markdown",
   "metadata": {
    "collapsed": true
   },
   "source": [
    "### c) Συνάρτηση του Beale (5)"
   ]
  },
  {
   "cell_type": "code",
   "execution_count": 24,
   "metadata": {
    "collapsed": true
   },
   "outputs": [],
   "source": [
    "''''\n",
    "x0 = (1,1)\n",
    "x* = (3, 0.5)\n",
    "f(x*) = 0\n",
    "'''\n",
    "const = [1.5, 2.25, 2.625]\n",
    "def f1c(x,y): return const[0] -x*(1 - y) \n",
    "def f2c(x,y): return const[1] -x*(1 - y*y)\n",
    "def f3c(x,y): return const[2] -x*(1 - y*y*y)\n",
    "def beal_func(x,y): return square(f1c(x,y)) + square(f2c(x,y)) + square(f3c(x,y))\n"
   ]
  },
  {
   "cell_type": "markdown",
   "metadata": {},
   "source": [
    "### d) Συνάρτηση ελικοειδούς κοιλάδας (Helical valey) (7)"
   ]
  },
  {
   "cell_type": "code",
   "execution_count": null,
   "metadata": {
    "collapsed": true
   },
   "outputs": [],
   "source": []
  },
  {
   "cell_type": "markdown",
   "metadata": {},
   "source": [
    "### e) Γκαουσιανή συνάρτηση (9)"
   ]
  },
  {
   "cell_type": "code",
   "execution_count": null,
   "metadata": {
    "collapsed": true
   },
   "outputs": [],
   "source": []
  },
  {
   "cell_type": "markdown",
   "metadata": {},
   "source": [
    "### f) Συνάρτηση έρευνας και ανάπτυξης Κόλπου (Gulf R&D function) (11)"
   ]
  },
  {
   "cell_type": "code",
   "execution_count": null,
   "metadata": {
    "collapsed": true
   },
   "outputs": [],
   "source": []
  },
  {
   "cell_type": "markdown",
   "metadata": {},
   "source": [
    "### g) Τρισδιάστατη συνάρτηση Box (12)"
   ]
  },
  {
   "cell_type": "code",
   "execution_count": null,
   "metadata": {
    "collapsed": true
   },
   "outputs": [],
   "source": []
  },
  {
   "cell_type": "markdown",
   "metadata": {},
   "source": [
    "### h) Συνάρτηση Wood (14)"
   ]
  },
  {
   "cell_type": "code",
   "execution_count": null,
   "metadata": {
    "collapsed": true
   },
   "outputs": [],
   "source": []
  },
  {
   "cell_type": "markdown",
   "metadata": {},
   "source": [
    "### i) Συνάρτηση των Brown και Dennis (16)"
   ]
  },
  {
   "cell_type": "code",
   "execution_count": null,
   "metadata": {
    "collapsed": true
   },
   "outputs": [],
   "source": []
  },
  {
   "cell_type": "markdown",
   "metadata": {},
   "source": [
    "### j) Συνάρτηση Biggs EXP6 (18)"
   ]
  },
  {
   "cell_type": "code",
   "execution_count": null,
   "metadata": {
    "collapsed": true
   },
   "outputs": [],
   "source": []
  },
  {
   "cell_type": "markdown",
   "metadata": {},
   "source": [
    "### k) Συνάρτηση του Watson (20)"
   ]
  },
  {
   "cell_type": "code",
   "execution_count": null,
   "metadata": {
    "collapsed": true
   },
   "outputs": [],
   "source": []
  },
  {
   "cell_type": "markdown",
   "metadata": {},
   "source": [
    "### l) Επεκταμένη συνάρτηση Rosenbrock (21)"
   ]
  },
  {
   "cell_type": "code",
   "execution_count": null,
   "metadata": {
    "collapsed": true
   },
   "outputs": [],
   "source": []
  },
  {
   "cell_type": "markdown",
   "metadata": {},
   "source": [
    "### m) Επεκταμένη μοναδιαία συνάρτηση Powell (22)"
   ]
  },
  {
   "cell_type": "code",
   "execution_count": null,
   "metadata": {
    "collapsed": true
   },
   "outputs": [],
   "source": []
  },
  {
   "cell_type": "markdown",
   "metadata": {},
   "source": [
    "### n) Συνάρτηση ποινής (23)"
   ]
  },
  {
   "cell_type": "code",
   "execution_count": null,
   "metadata": {
    "collapsed": true
   },
   "outputs": [],
   "source": []
  },
  {
   "cell_type": "markdown",
   "metadata": {},
   "source": [
    "### o) Δεύτερη συνάρτηση ποινής (24)"
   ]
  },
  {
   "cell_type": "code",
   "execution_count": null,
   "metadata": {
    "collapsed": true
   },
   "outputs": [],
   "source": []
  },
  {
   "cell_type": "markdown",
   "metadata": {},
   "source": [
    "### p) Συνάρτηση μεταβλητής διάστασης (25)"
   ]
  },
  {
   "cell_type": "code",
   "execution_count": null,
   "metadata": {
    "collapsed": true
   },
   "outputs": [],
   "source": []
  },
  {
   "cell_type": "markdown",
   "metadata": {},
   "source": [
    "### q) Τριγωνομετρική συνάρτηση (26)"
   ]
  },
  {
   "cell_type": "code",
   "execution_count": null,
   "metadata": {
    "collapsed": true
   },
   "outputs": [],
   "source": []
  },
  {
   "cell_type": "markdown",
   "metadata": {},
   "source": [
    "### r) Συνάρτηση Chebyquad (35)"
   ]
  },
  {
   "cell_type": "code",
   "execution_count": null,
   "metadata": {
    "collapsed": true
   },
   "outputs": [],
   "source": []
  }
 ],
 "metadata": {
  "kernelspec": {
   "display_name": "Python 2",
   "language": "python",
   "name": "python2"
  },
  "language_info": {
   "codemirror_mode": {
    "name": "ipython",
    "version": 2
   },
   "file_extension": ".py",
   "mimetype": "text/x-python",
   "name": "python",
   "nbconvert_exporter": "python",
   "pygments_lexer": "ipython2",
   "version": "2.7.9"
  }
 },
 "nbformat": 4,
 "nbformat_minor": 1
}
