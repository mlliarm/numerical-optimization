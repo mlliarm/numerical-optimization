{
 "cells": [
  {
   "cell_type": "markdown",
   "metadata": {},
   "source": [
    "\n",
    "\n",
    "# ΣΥΓΚΡΙΣΗ ΜΕΘΟΔΩΝ ΒΕΛΤΙΣΤΟΠΟΙΗΣΗΣ ΣΕ ΓΝΩΣΤΑ ΠΡΟΒΛΗΜΑΤΑ\n",
    "\n",
    " <h2 id=\"tocheading\">Περιεχόμενα</h2>\n",
    " <div id=\"toc\"></div>"
   ]
  },
  {
   "cell_type": "code",
   "execution_count": 44,
   "metadata": {},
   "outputs": [
    {
     "data": {
      "application/javascript": [
       "$.getScript('https://kmahelona.github.io/ipython_notebook_goodies/ipython_notebook_toc.js')"
      ],
      "text/plain": [
       "<IPython.core.display.Javascript object>"
      ]
     },
     "metadata": {},
     "output_type": "display_data"
    }
   ],
   "source": [
    "get_ipython().run_cell_magic(u'javascript', u'', u\"$.getScript('https://kmahelona.github.io/ipython_notebook_goodies/ipython_notebook_toc.js')\")"
   ]
  },
  {
   "cell_type": "markdown",
   "metadata": {},
   "source": [
    "## 1) Κλήση των μεθόδων από την SciPy <a class=\"anchor\" id=\"first-bullet\"></a>"
   ]
  },
  {
   "cell_type": "code",
   "execution_count": 3,
   "metadata": {},
   "outputs": [],
   "source": [
    "# Εισαγωγή των συναρτήσεων minimize (για τις BFGS, CG, CG-Newton, Powell, Nelder-Mead) και της basinhopping\n",
    "# για μια βελτιωμένη μορφή του stohastic annealing.\n",
    "from scipy.optimize import minimize, basinhopping"
   ]
  },
  {
   "cell_type": "code",
   "execution_count": 4,
   "metadata": {},
   "outputs": [],
   "source": [
    "# Εισαγωγή της βιβλιοθήκης numpy για την κλήση των βασικών μαθηματικών συναρτήσεων (sin, cos, etc).\n",
    "import numpy as np\n",
    "PI = np.pi"
   ]
  },
  {
   "cell_type": "code",
   "execution_count": 5,
   "metadata": {},
   "outputs": [],
   "source": [
    "# Κλάση που θα χρειαστεί κατά την κλήση της συνάρτησης για Stochastic Annealing (basinhopping).\n",
    "class MyTakeStep(object):\n",
    "    def __init__(self, stepsize=0.5):\n",
    "        self.stepsize = stepsize\n",
    "    def __call__(self, x):\n",
    "        s = self.stepsize\n",
    "        x[0] += np.random.uniform(-2.*s, 2.*s)\n",
    "        x[1:] += np.random.uniform(-s, s, x[1:].shape)\n",
    "        return x"
   ]
  },
  {
   "cell_type": "markdown",
   "metadata": {},
   "source": [
    "## 2) Οι συναρτήσεις προς βελτιστοποίηση:"
   ]
  },
  {
   "cell_type": "code",
   "execution_count": 6,
   "metadata": {},
   "outputs": [],
   "source": [
    "import math as m\n",
    "import scipy\n",
    "def square(x): return x*x"
   ]
  },
  {
   "cell_type": "markdown",
   "metadata": {},
   "source": [
    "<i>Οι ακόλουθες συναρτήσεις είναι εξειδικευμένες στο πρόβλημα της βελτιστοποίησης χωρίς περιορισμούς όπως αναφέρουν οι More et al.\n",
    " \n",
    " Από το εν λόγω paper οι αύξοντες αριθμοί των συναρτήσεων (μετά από ταξινόμηση) είναι οι ακόλουθοι: (3, 4, 5, 7, 9, 11, 12, 14, 16, 18, 20, 21, 22, 23, 24, 25, 26, 35), στο πλήθος δεκαοχτώ και αντιστοιχούν παρακάτω στα λατινικά γράμματα από το a μέχρι το r.\n",
    " \n",
    "Πριν τον ορισμό της κάθε συνάρτησης δίνονται οι δοκιμασμένες τιμές της αρχικής τιμής του διανύσματος (x,y), η βέλτιστη τιμή και η τιμή της f(x,y) στο ακρότατο.</i>"
   ]
  },
  {
   "cell_type": "markdown",
   "metadata": {},
   "source": [
    "### a) Συνάρτηση (badly scaled) του Powell (3) <a class=\"anchor\" id=\"third-bullet\"></a>"
   ]
  },
  {
   "cell_type": "code",
   "execution_count": 10,
   "metadata": {},
   "outputs": [],
   "source": [
    "'''\n",
    "x0 = (0,1)\n",
    "x* = (1.098E-5, 9.106)\n",
    "f(x*) = 0  \n",
    "'''\n",
    "f1a = lambda x: (10**4)*x[0]*x[1] - 1\n",
    "f2a = lambda x: (m.exp(-x[0]) + m.exp(-x[1]) - 1.0001)\n",
    "powell_func = lambda x: square(f1a(x)) + square(f2a(x))\n",
    "powell_f = lambda x: powell_func([x[0],x[1]])\n",
    "\n",
    "# Ορισμός της powell μαζί με τις μερικές παραγώγους της\n",
    "def powell_f2(x):\n",
    "    f = square((10**4)*x[0]*x[1] - 1) + square((m.exp(-x[0]) + m.exp(-x[1]) - 1.0001))\n",
    "    df = np.zeros(2)\n",
    "    df[0] = 2*((10**4)*x[0]*x[1] - 1)*(10**4)*x[1] - 2*m.exp(-x[0])\n",
    "    df[1] = 2*((10**4)*x[0]*x[1] - 1)*(10**4)*x[0] - 2*m.exp(-x[1])\n",
    "    return f,df\n",
    "\n",
    "# Υπολογισμός της Jacobian\n",
    "#JPowell = np.Jacobian(powell_f)"
   ]
  },
  {
   "cell_type": "markdown",
   "metadata": {},
   "source": [
    "#### Υπολογισμοί για την συνάρτηση του Powell"
   ]
  },
  {
   "cell_type": "markdown",
   "metadata": {},
   "source": [
    "##### BFGS"
   ]
  },
  {
   "cell_type": "code",
   "execution_count": 11,
   "metadata": {},
   "outputs": [
    {
     "data": {
      "text/plain": [
       "      fun: 8.500389456886437e-06\n",
       " hess_inv: array([[ 4.08641802e-08, -1.47664629e-02],\n",
       "       [-1.47664629e-02,  5.38438843e+03]])\n",
       "      jac: array([-2.01896883e+02, -6.90434900e-04])\n",
       "  message: 'Desired error not necessarily achieved due to precision loss.'\n",
       "     nfev: 332\n",
       "      nit: 36\n",
       "     njev: 80\n",
       "   status: 2\n",
       "  success: False\n",
       "        x: array([1.62323656e-05, 6.14759392e+00])"
      ]
     },
     "execution_count": 11,
     "metadata": {},
     "output_type": "execute_result"
    }
   ],
   "source": [
    "powBFGS = minimize(powell_f, (0,1), method = 'bfgs', tol =1e-8)\n",
    "powBFGS"
   ]
  },
  {
   "cell_type": "markdown",
   "metadata": {},
   "source": [
    "##### Newton-CG"
   ]
  },
  {
   "cell_type": "code",
   "execution_count": 12,
   "metadata": {},
   "outputs": [
    {
     "data": {
      "text/plain": [
       "     fun: 0.00019246178758676506\n",
       "     jac: array([-9.07108946e+02, -3.29068731e-02])\n",
       " message: \"Warning: CG iterations didn't converge.  The Hessian is not positive definite.\"\n",
       "    nfev: 85\n",
       "    nhev: 0\n",
       "     nit: 29\n",
       "    njev: 338\n",
       "  status: 3\n",
       " success: False\n",
       "       x: array([2.34255102e-05, 4.26895046e+00])"
      ]
     },
     "execution_count": 12,
     "metadata": {},
     "output_type": "execute_result"
    }
   ],
   "source": [
    "powNCG = minimize(powell_f2, [0,1], method = 'Newton-CG', tol =1e-8, jac=True)\n",
    "powNCG"
   ]
  },
  {
   "cell_type": "markdown",
   "metadata": {},
   "source": [
    "##### CG"
   ]
  },
  {
   "cell_type": "code",
   "execution_count": 13,
   "metadata": {},
   "outputs": [
    {
     "data": {
      "text/plain": [
       "     fun: 0.135188173469304\n",
       "     jac: array([-0.74336516, -0.73563323])\n",
       " message: 'Desired error not necessarily achieved due to precision loss.'\n",
       "    nfev: 81\n",
       "     nit: 1\n",
       "    njev: 69\n",
       "  status: 2\n",
       " success: False\n",
       "       x: array([1.00006282e-04, 1.00000000e+00])"
      ]
     },
     "execution_count": 13,
     "metadata": {},
     "output_type": "execute_result"
    }
   ],
   "source": [
    "powCG = minimize(powell_f2, (0,1), method = 'CG', tol =1e-8, jac=True)\n",
    "powCG"
   ]
  },
  {
   "cell_type": "markdown",
   "metadata": {},
   "source": [
    "##### Powell"
   ]
  },
  {
   "cell_type": "code",
   "execution_count": 14,
   "metadata": {},
   "outputs": [
    {
     "data": {
      "text/plain": [
       "   direc: array([[-1.00183080e-07,  6.43545979e-02],\n",
       "       [-9.29425357e-08,  6.08972768e-02]])\n",
       "     fun: 3.3498146595120214e-08\n",
       " message: 'Maximum number of function evaluations has been exceeded.'\n",
       "    nfev: 2041\n",
       "     nit: 51\n",
       "  status: 1\n",
       " success: False\n",
       "       x: array([1.22839125e-05, 8.14042687e+00])"
      ]
     },
     "execution_count": 14,
     "metadata": {},
     "output_type": "execute_result"
    }
   ],
   "source": [
    "powPOW = minimize(powell_f, (0,1), method = 'Powell', tol =1e-8)\n",
    "powPOW"
   ]
  },
  {
   "cell_type": "markdown",
   "metadata": {},
   "source": [
    "##### Nelder-Mead"
   ]
  },
  {
   "cell_type": "code",
   "execution_count": 15,
   "metadata": {},
   "outputs": [
    {
     "data": {
      "text/plain": [
       " final_simplex: (array([[1.17714307e-05, 8.49512936e+00],\n",
       "       [1.17991888e-05, 8.47504727e+00],\n",
       "       [1.18285673e-05, 8.45422234e+00]]), array([8.59453336e-09, 9.54568776e-09, 1.04145728e-08]))\n",
       "           fun: 8.594533356831049e-09\n",
       "       message: 'Maximum number of function evaluations has been exceeded.'\n",
       "          nfev: 401\n",
       "           nit: 222\n",
       "        status: 1\n",
       "       success: False\n",
       "             x: array([1.17714307e-05, 8.49512936e+00])"
      ]
     },
     "execution_count": 15,
     "metadata": {},
     "output_type": "execute_result"
    }
   ],
   "source": [
    "powNM = minimize(powell_f, (0,1), method = 'nelder-mead', tol =1e-8)\n",
    "powNM"
   ]
  },
  {
   "cell_type": "markdown",
   "metadata": {},
   "source": [
    "##### Basin-Hopping"
   ]
  },
  {
   "cell_type": "code",
   "execution_count": 18,
   "metadata": {},
   "outputs": [
    {
     "data": {
      "text/plain": [
       "                        fun: 4.347024572768168e-11\n",
       " lowest_optimization_result:       fun: 4.347024572768168e-11\n",
       " hess_inv: <2x2 LbfgsInvHessProduct with dtype=float64>\n",
       "      jac: array([-2.09982928e-04, -1.34444812e+00])\n",
       "  message: 'ABNORMAL_TERMINATION_IN_LNSRCH'\n",
       "     nfev: 44\n",
       "      nit: 2\n",
       "   status: 2\n",
       "  success: False\n",
       "        x: array([9.15791607e+00, 1.09195539e-05])\n",
       "                    message: ['requested number of basinhopping iterations completed successfully']\n",
       "      minimization_failures: 74\n",
       "                       nfev: 13299\n",
       "                        nit: 500\n",
       "                          x: array([9.15791607e+00, 1.09195539e-05])"
      ]
     },
     "execution_count": 18,
     "metadata": {},
     "output_type": "execute_result"
    }
   ],
   "source": [
    "minimizer_kwargs = {\"method\":\"L-BFGS-B\", \"jac\":True}\n",
    "x0pow = [0.0, 1.0]\n",
    "mytakestep = MyTakeStep()\n",
    "powBH= basinhopping(powell_f2, x0pow, minimizer_kwargs=minimizer_kwargs, niter=500, take_step=mytakestep)\n",
    "powBH\n",
    "#print(\"global minimum: x = [%.4f, %.4f], f(x0) = %.4f\" % (powANN.x[0], powANN.x[1], powANN.fun))"
   ]
  },
  {
   "cell_type": "markdown",
   "metadata": {},
   "source": [
    " <u><center><h4>Αποτελέσματα για την συνάρτηση Powell </h4></center></u>\n",
    " \n",
    " | Μέθοδος        | x*           | f(x*)  |Σημειώσεις| n iterations | f evaluations|\n",
    " | :-------------: |:----------------:| :-----:| :-----:| :-----:| :-----:|\n",
    " | BFGS      | (1.623E-05,   6.147E+00) | 8.500E-06 |Desired error not necessarily achieved due to precision loss. | 36|332 |\n",
    " | Newton-CG      | (2.342E-05,   4.269E+00)     |   1.925E-04 |CG iterations didn't converge.  The Hessian is not positive definite. |29 |85 |\n",
    " | CG | (1.000E-04,   1.000E+00)      |    1.352E-01 | Desired error not necessarily achieved due to precision loss.|1 |81 |\n",
    " |Powell | (1.228E-05, 8.140E+00) | 3.350E-08  |Maximum number of function evaluations has been exceeded. |51 |2041 |\n",
    " |Nelder-Mead|(1.177E-05, 8.495E+00) |8.594E-09 |Maximum number of function evaluations has been exceeded. |222 | 401|\n",
    " |Basin Hopping|(1.199E-05, 8.336E+00) |1.639E-08 |ABNORMAL_TERMINATION_IN_LNSRCH | 2|44 |\n",
    " |Αναμενόμενη τιμή|(1.098E-05, 9.106E+00) | 0.0|- | -|- |"
   ]
  },
  {
   "cell_type": "markdown",
   "metadata": {},
   "source": [
    "### b) Συνάρτηση (badly scaled) του Brown (4)"
   ]
  },
  {
   "cell_type": "code",
   "execution_count": 19,
   "metadata": {},
   "outputs": [],
   "source": [
    "''''\n",
    "x0 = (1, 1)\n",
    "x* = (10^6, 2E-6)\n",
    "f(x*) = 0\n",
    "'''\n",
    "f1b = lambda x: x[0] - 10**6\n",
    "f2b = lambda x: x[1] - 2*10**(-6)\n",
    "f3b = lambda x: x[0]*x[1] - 2\n",
    "\n",
    "brown_func = lambda x: square(f1b(x)) + square(f2b(x)) + square(f3b(x))\n",
    "\n",
    "def brown_func2(x):\n",
    "    f = brown_func(x)\n",
    "    df = np.zeros(2)\n",
    "    df[0] = 2*(x[0] - 10**6) + 0                     + 2*(x[0]*x[1] - 2)*x[1] \n",
    "    df[1] = 0                + 2*(x[1] - 2*10**(-6)) + 2*(x[0]*x[1] - 2)*x[0]\n",
    "    return f,df"
   ]
  },
  {
   "cell_type": "markdown",
   "metadata": {},
   "source": [
    "#### Υπολογισμοί για την συνάρτηση του Brown"
   ]
  },
  {
   "cell_type": "markdown",
   "metadata": {},
   "source": [
    "##### BFGS"
   ]
  },
  {
   "cell_type": "code",
   "execution_count": 20,
   "metadata": {},
   "outputs": [
    {
     "data": {
      "text/plain": [
       "      fun: 5.4024409971684954e-05\n",
       " hess_inv: array([[ 4.99900127e-01, -6.02531925e-10],\n",
       "       [-6.02531925e-10,  4.96376960e-13]])\n",
       "      jac: array([-2.42767142e-03,  4.02743345e+02])\n",
       "  message: 'Desired error not necessarily achieved due to precision loss.'\n",
       "     nfev: 320\n",
       "      nit: 15\n",
       "     njev: 78\n",
       "   status: 2\n",
       "  success: False\n",
       "        x: array([9.99999999e+05, 1.99275079e-06])"
      ]
     },
     "execution_count": 20,
     "metadata": {},
     "output_type": "execute_result"
    }
   ],
   "source": [
    "brownBFGS = minimize(brown_func, (1,1), method = 'bfgs', tol =1e-8)\n",
    "brownBFGS"
   ]
  },
  {
   "cell_type": "markdown",
   "metadata": {},
   "source": [
    "##### Newton-CG"
   ]
  },
  {
   "cell_type": "code",
   "execution_count": 21,
   "metadata": {},
   "outputs": [
    {
     "data": {
      "text/plain": [
       "     fun: 249999000001.0149\n",
       "     jac: array([2.00000094e+00, 5.00000500e+11])\n",
       " message: \"Warning: CG iterations didn't converge.  The Hessian is not positive definite.\"\n",
       "    nfev: 3\n",
       "    nhev: 0\n",
       "     nit: 2\n",
       "    njev: 89\n",
       "  status: 3\n",
       " success: False\n",
       "       x: array([5.00001000e+05, 3.99999182e-06])"
      ]
     },
     "execution_count": 21,
     "metadata": {},
     "output_type": "execute_result"
    }
   ],
   "source": [
    "brownNCG = minimize(brown_func2, (1,1), method = 'Newton-CG', tol =1e-8, jac=True)\n",
    "brownNCG"
   ]
  },
  {
   "cell_type": "markdown",
   "metadata": {},
   "source": [
    "##### CG"
   ]
  },
  {
   "cell_type": "code",
   "execution_count": 22,
   "metadata": {},
   "outputs": [
    {
     "data": {
      "text/plain": [
       "     fun: 1.972152263054323e-31\n",
       "     jac: array([1.77635684e-21, 8.88178420e-10])\n",
       " message: 'Optimization terminated successfully.'\n",
       "    nfev: 43\n",
       "     nit: 15\n",
       "    njev: 43\n",
       "  status: 0\n",
       " success: True\n",
       "       x: array([1.e+06, 2.e-06])"
      ]
     },
     "execution_count": 22,
     "metadata": {},
     "output_type": "execute_result"
    }
   ],
   "source": [
    "brownCG = minimize(brown_func2, (1,1), method = 'CG', tol =1e-8, jac=True)\n",
    "brownCG"
   ]
  },
  {
   "cell_type": "markdown",
   "metadata": {},
   "source": [
    "##### Powell"
   ]
  },
  {
   "cell_type": "code",
   "execution_count": 23,
   "metadata": {},
   "outputs": [
    {
     "data": {
      "text/plain": [
       "   direc: array([[ 0.00000000e+00,  1.00000000e+00],\n",
       "       [ 1.10629822e-05, -4.42518404e-17]])\n",
       "     fun: 1.960730365729318e-23\n",
       " message: 'Optimization terminated successfully.'\n",
       "    nfev: 117\n",
       "     nit: 4\n",
       "  status: 0\n",
       " success: True\n",
       "       x: array([1.e+06, 2.e-06])"
      ]
     },
     "execution_count": 23,
     "metadata": {},
     "output_type": "execute_result"
    }
   ],
   "source": [
    "brownPowell = minimize(brown_func, (1,1), method = 'Powell', tol =1e-8)\n",
    "brownPowell"
   ]
  },
  {
   "cell_type": "markdown",
   "metadata": {},
   "source": [
    "##### Nelder-Mead"
   ]
  },
  {
   "cell_type": "code",
   "execution_count": 24,
   "metadata": {},
   "outputs": [
    {
     "data": {
      "text/plain": [
       " final_simplex: (array([[1.00000000e+06, 2.00000000e-06],\n",
       "       [1.00000000e+06, 2.00000000e-06],\n",
       "       [1.00000000e+06, 2.00000001e-06]]), array([7.03867554e-18, 2.02110001e-17, 9.64893108e-17]))\n",
       "           fun: 7.038675538192397e-18\n",
       "       message: 'Optimization terminated successfully.'\n",
       "          nfev: 335\n",
       "           nit: 177\n",
       "        status: 0\n",
       "       success: True\n",
       "             x: array([1.e+06, 2.e-06])"
      ]
     },
     "execution_count": 24,
     "metadata": {},
     "output_type": "execute_result"
    }
   ],
   "source": [
    "brownNM = minimize(brown_func, (1,1), method = 'Nelder-Mead', tol =1e-8)\n",
    "brownNM"
   ]
  },
  {
   "cell_type": "markdown",
   "metadata": {},
   "source": [
    "##### Basin Hopping"
   ]
  },
  {
   "cell_type": "code",
   "execution_count": 25,
   "metadata": {},
   "outputs": [
    {
     "data": {
      "text/plain": [
       "                        fun: 2.0615370909368328e-15\n",
       " lowest_optimization_result:       fun: 2.0615370909368328e-15\n",
       " hess_inv: <2x2 LbfgsInvHessProduct with dtype=float64>\n",
       "      jac: array([ 8.00936558e-08, -4.27918327e-02])\n",
       "  message: 'CONVERGENCE: REL_REDUCTION_OF_F_<=_FACTR*EPSMCH'\n",
       "     nfev: 25\n",
       "      nit: 13\n",
       "   status: 0\n",
       "  success: True\n",
       "        x: array([1.00000000e+06, 1.99999998e-06])\n",
       "                    message: ['requested number of basinhopping iterations completed successfully']\n",
       "      minimization_failures: 0\n",
       "                       nfev: 2026\n",
       "                        nit: 500\n",
       "                          x: array([1.00000000e+06, 1.99999998e-06])"
      ]
     },
     "execution_count": 25,
     "metadata": {},
     "output_type": "execute_result"
    }
   ],
   "source": [
    "minimizer_kwargs = {\"method\":\"L-BFGS-B\", \"jac\":True}\n",
    "x0brow = [1.0, 1.0]\n",
    "mytakestep = MyTakeStep()\n",
    "brownBH = basinhopping(brown_func2, x0brow, minimizer_kwargs=minimizer_kwargs, niter=500, take_step=mytakestep)\n",
    "brownBH"
   ]
  },
  {
   "cell_type": "markdown",
   "metadata": {},
   "source": [
    " <u><center><h4>Αποτελέσματα για την συνάρτηση Brown</h4></center></u>\n",
    " \n",
    " | Μέθοδος        | x*           | f(x*)  |Σημειώσεις| n iterations | f evaluations|\n",
    " | :-------------: |:----------------:| :-----:|:-----:|:-----:|:-----:|\n",
    " | BFGS      |(1.000E+06, 1.993E-06) | 5.402E-05 |Desired error not necessarily achieved due to precision loss.|15|320|\n",
    " | Newton-CG      |(5.000E+05, 4.000E-06)| <b>2.500E+11</b>|CG iterations didn't converge.  The Hessian is not positive definite.|0|3|\n",
    " | CG |(1.000E+06, 2.000E-06)|1.972E-31 |Optimization terminated successfully.|15|43|\n",
    " |Powell |(1.000E+06, 2.000E-06)| 1.961E-23 |Optimization terminated successfully.|4|117|\n",
    " |Nelder-Mead|(1.000Ε+06, 2.000Ε-06) |7.039Ε-18 |Optimization terminated successfully.|177|335|\n",
    " |Basin Hopping|(1.000E+06, 2.000E-06) |2.061E-15 |Success|13|25|\n",
    " |<b>Αναμενόμενη τιμή</b>|(1.0E+06, 2.0E-6) | 0.0|-|-|-|"
   ]
  },
  {
   "cell_type": "markdown",
   "metadata": {},
   "source": [
    "### c) Συνάρτηση του Beale (5)"
   ]
  },
  {
   "cell_type": "code",
   "execution_count": 26,
   "metadata": {},
   "outputs": [],
   "source": [
    "''''\n",
    "x0 = (1,1)\n",
    "x* = (3, 0.5)\n",
    "f(x*) = 0\n",
    "'''\n",
    "const = [1.5, 2.25, 2.625]\n",
    "f1c = lambda x: const[0] -x[0]*(1 - x[1]) \n",
    "f2c = lambda x: const[1] -x[0]*(1 - x[1]*x[1])\n",
    "f3c = lambda x: const[2] -x[0]*(1 - x[1]*x[1]*x[1])\n",
    "\n",
    "beal_func = lambda x: square(f1c(x)) + square(f2c(x)) + square(f3c(x))\n",
    "\n",
    "def beal_func2(x):\n",
    "    f = beal_func(x)\n",
    "    df = np.zeros(2)\n",
    "    df[0] = (2*(const[0] -x[0]*(1 - x[1]))*(-(1 - x[1]))\n",
    "            +2*(const[1] -x[0]*(1 - x[1]*x[1]))*(-(1 - x[1]*x[1]))\n",
    "            +2*(const[2] -x[0]*(1 - x[1]*x[1]*x[1]))*(-(1 - x[1]*x[1]*x[1])))\n",
    "    \n",
    "    df[1] = (2*(const[0] -x[0]*(1 - x[1]))*x[0]\n",
    "            +2*(const[1] -x[0]*(1 - x[1]*x[1]))*(2*x[1])\n",
    "            +2*(const[2] -x[0]*(1 - x[1]*x[1]*x[1]))*(3*x[1]*x[1]))\n",
    "    return f,df"
   ]
  },
  {
   "cell_type": "code",
   "execution_count": 27,
   "metadata": {},
   "outputs": [],
   "source": [
    "# Επειδή βλέπουμε πως κάποιες διαδικασίες επαναλαμβάνονται θα προσπαθήσουμενα διευκολύνουμε λίγο την ζωή μας."
   ]
  },
  {
   "cell_type": "code",
   "execution_count": 28,
   "metadata": {},
   "outputs": [],
   "source": [
    "gradientMethods = ['Newton-CG', 'CG']\n",
    "nogradientMethods = ['bfgs', 'Powell', 'nelder-mead']\n",
    "\n",
    "def basinalgo(func,x0):\n",
    "    minimizer_kwargs = {\"method\":\"L-BFGS-B\", \"jac\":True}    \n",
    "    mytakestep = MyTakeStep()\n",
    "    res = basinhopping(func, x0, minimizer_kwargs=minimizer_kwargs, niter=500, take_step=mytakestep)\n",
    "    print 'Basin-Hopping',res"
   ]
  },
  {
   "cell_type": "markdown",
   "metadata": {},
   "source": [
    "#### Υπολογισμοί για την συνάρτηση του Beale"
   ]
  },
  {
   "cell_type": "markdown",
   "metadata": {},
   "source": [
    "##### Newton-CG, CG και Basin-Hopping"
   ]
  },
  {
   "cell_type": "code",
   "execution_count": 29,
   "metadata": {},
   "outputs": [
    {
     "name": "stdout",
     "output_type": "stream",
     "text": [
      "Newton-CG      fun: 7.140426805286356\n",
      "     jac: array([-0.  , 27.75])\n",
      " message: \"Warning: CG iterations didn't converge.  The Hessian is not positive definite.\"\n",
      "    nfev: 2\n",
      "    nhev: 0\n",
      "     nit: 1\n",
      "    njev: 85\n",
      "  status: 3\n",
      " success: False\n",
      "       x: array([1.        , 0.59489031]) \n",
      "\n",
      "\n",
      "CG      fun: 0.0008717260814011488\n",
      "     jac: array([-0.04243121, -0.02439545])\n",
      " message: 'Desired error not necessarily achieved due to precision loss.'\n",
      "    nfev: 75\n",
      "     nit: 6\n",
      "    njev: 65\n",
      "  status: 2\n",
      " success: False\n",
      "       x: array([2.93125818, 0.48407468]) \n",
      "\n",
      "\n",
      "Basin-Hopping                         fun: 3.057531210858267e-16\n",
      " lowest_optimization_result:       fun: 3.057531210858267e-16\n",
      " hess_inv: <2x2 LbfgsInvHessProduct with dtype=float64>\n",
      "      jac: array([-1.72084288e-08, -3.47065415e-08])\n",
      "  message: 'CONVERGENCE: NORM_OF_PROJECTED_GRADIENT_<=_PGTOL'\n",
      "     nfev: 82\n",
      "      nit: 31\n",
      "   status: 0\n",
      "  success: True\n",
      "        x: array([2.99999996, 0.49999999])\n",
      "                    message: ['requested number of basinhopping iterations completed successfully']\n",
      "      minimization_failures: 92\n",
      "                       nfev: 39252\n",
      "                        nit: 500\n",
      "                          x: array([2.99999996, 0.49999999])\n"
     ]
    }
   ],
   "source": [
    "for meth in gradientMethods:\n",
    "    res = minimize(beal_func2, [1,1], method = meth, tol =1e-8, jac=True)    \n",
    "    print meth, res, '\\n\\n'\n",
    "\n",
    "basinalgo(beal_func2,[1,1])"
   ]
  },
  {
   "cell_type": "markdown",
   "metadata": {},
   "source": [
    "##### BFGS, Powell και Nelder-Mead"
   ]
  },
  {
   "cell_type": "code",
   "execution_count": 30,
   "metadata": {},
   "outputs": [
    {
     "name": "stdout",
     "output_type": "stream",
     "text": [
      "bfgs       fun: 1.976096216049981e-14\n",
      " hess_inv: array([[3.14203789, 0.77829902],\n",
      "       [0.77829902, 0.21450585]])\n",
      "      jac: array([-1.33902498e-10,  3.33249863e-10])\n",
      "  message: 'Optimization terminated successfully.'\n",
      "     nfev: 72\n",
      "      nit: 16\n",
      "     njev: 18\n",
      "   status: 0\n",
      "  success: True\n",
      "        x: array([2.99999966, 0.49999991]) \n",
      "\n",
      "\n",
      "Powell    direc: array([[-4.92350654e-02, -1.49820463e-02],\n",
      "       [ 4.75289660e-07,  5.92879797e-08]])\n",
      "     fun: 0.0\n",
      " message: 'Optimization terminated successfully.'\n",
      "    nfev: 263\n",
      "     nit: 7\n",
      "  status: 0\n",
      " success: True\n",
      "       x: array([3. , 0.5]) \n",
      "\n",
      "\n",
      "nelder-mead  final_simplex: (array([[3.        , 0.5       ],\n",
      "       [2.99999999, 0.5       ],\n",
      "       [3.00000001, 0.5       ]]), array([6.11427615e-18, 6.87326691e-18, 7.90120545e-18]))\n",
      "           fun: 6.114276148670061e-18\n",
      "       message: 'Optimization terminated successfully.'\n",
      "          nfev: 162\n",
      "           nit: 84\n",
      "        status: 0\n",
      "       success: True\n",
      "             x: array([3. , 0.5]) \n",
      "\n",
      "\n"
     ]
    }
   ],
   "source": [
    "for meth in nogradientMethods:\n",
    "    res = minimize(beal_func, [1,1], method = meth, tol =1e-8, jac=None)    \n",
    "    print meth, res, '\\n\\n'"
   ]
  },
  {
   "cell_type": "markdown",
   "metadata": {},
   "source": [
    " <u><center><h4>Αποτελέσματα για την συνάρτηση Beale</h4></center></u>\n",
    " \n",
    " | Μέθοδος        | x*           | f(x*)  |Σημειώσεις|n iterations | f evaluations|\n",
    " | :-------------: |:----------------:| :-----:|:-----:|:-----:|:-----:|\n",
    " | BFGS      | (2.99999966,  0.49999991) | 1.976E-14 |Optimization terminated successfully.|16|72|\n",
    " | Newton-CG      | (1.        ,  0.59489031)     |  <b>7.1404</b>|Iterations didn't converge.  The Hessian is not positive definite.|1|2|\n",
    " | CG | (2.93125818,  0.48407468)      |   8.717E-04 |Desired error not necessarily achieved due to precision loss.|6|75|\n",
    " |Powell | ( 3.0E+00,   5.0E-01) | 0.0E+00 |Optimization terminated successfully.|7|263|\n",
    " |Nelder-Mead|(3.0Ε+00,   5.0Ε-01) |6.114-18 |Optimization terminated successfully.|84|162|\n",
    " |Basin Hopping|(3., 0.5) |7.448E-18 |Success|15|18|\n",
    " |<b>Αναμενόμενη τιμή</b>|(3.0. 0.5) | 0.0|-|-|-|"
   ]
  },
  {
   "cell_type": "markdown",
   "metadata": {},
   "source": [
    "### d) Συνάρτηση ελικοειδούς κοιλάδας (Helical valey) (7)"
   ]
  },
  {
   "cell_type": "code",
   "execution_count": 31,
   "metadata": {},
   "outputs": [],
   "source": [
    "''''\n",
    "x0 = (-1,0,0)\n",
    "x* = (1, 0, 0)\n",
    "f(x*) = 0\n",
    "'''\n",
    "def theta(x0,x1):\n",
    "    if x0 > 0:\n",
    "        return np.arctan(x1/x0)/PI\n",
    "    if x0 < 0:\n",
    "        return 0.5 + np.arctan(x1/x0)/PI\n",
    "    \n",
    "f1d = lambda x: 10*(x[2] - 10*theta(x[0],x[1]))\n",
    "f2d = lambda x: 10*((x[0]**2 + x[1]**2)**(1/2) - 1.0)\n",
    "f3d = lambda x: x[2]\n",
    "\n",
    "def helic_func(x): return square(f1d(x)) + square(f2d(x)) + square(f3d(x))\n",
    "\n",
    "def helic_func2(x):\n",
    "    f = helic_func(x)\n",
    "    df = np.zeros(3)\n",
    "    df[0] = ( 200*(x[2] - 10*theta(x[0],x[1]))*(x[1]/(x[0]**2 + x[1]**2))\n",
    "            + 20*((x[0]**2 + x[1]**2)**(1/2) - 1.0)*(0.5*((x[0]**2 + x[1]**2)**(-1/2))*2*x[0])\n",
    "            + 0 )\n",
    "    df[1] = ( 200*(x[2] - 10*theta(x[0],x[1]))*(-x[1]/(x[0]**2 + x[1]**2))\n",
    "            + 20*((x[0]**2 + x[1]**2)**(1/2) - 1.0)*(0.5*((x[0]**2 + x[1]**2)**(-1/2))*2*x[1])        \n",
    "            + 0 )\n",
    "    df[2] = ( 20*(10*(x[2] - 10*theta(x[0],x[1])))\n",
    "            + 0    \n",
    "            + 1 )\n",
    "    return f,df"
   ]
  },
  {
   "cell_type": "markdown",
   "metadata": {},
   "source": [
    "#### Υπολογισμοί για την ελικοειδή συνάρτηση"
   ]
  },
  {
   "cell_type": "markdown",
   "metadata": {},
   "source": [
    "##### Newton-CG, CG και Basin-Hopping"
   ]
  },
  {
   "cell_type": "code",
   "execution_count": 32,
   "metadata": {},
   "outputs": [
    {
     "name": "stdout",
     "output_type": "stream",
     "text": [
      "Newton-CG      fun: 24.952525\n",
      "     jac: array([0.00000000e+00, 0.00000000e+00, 2.13162821e-14])\n",
      " message: 'Optimization terminated successfully.'\n",
      "    nfev: 3\n",
      "    nhev: 0\n",
      "     nit: 2\n",
      "    njev: 8\n",
      "  status: 0\n",
      " success: True\n",
      "       x: array([-1.   ,  0.   ,  4.995]) \n",
      "\n",
      "\n",
      "CG      fun: 24.763464656625718\n",
      "     jac: array([ 0.        ,  0.        , -6.81478751])\n",
      " message: 'Desired error not necessarily achieved due to precision loss.'\n",
      "    nfev: 117\n",
      "     nit: 2\n",
      "    njev: 105\n",
      "  status: 2\n",
      " success: False\n",
      "       x: array([-1.        ,  0.        ,  4.96092606]) \n",
      "\n",
      "\n",
      "Basin-Hopping                         fun: 1.5257511107467787e-07\n",
      " lowest_optimization_result:       fun: 1.5257511107467787e-07\n",
      " hess_inv: <3x3 LbfgsInvHessProduct with dtype=float64>\n",
      "      jac: array([-3.48199217e-09,  3.48199217e-09,  1.00018658e+00])\n",
      "  message: 'ABNORMAL_TERMINATION_IN_LNSRCH'\n",
      "     nfev: 122\n",
      "      nit: 14\n",
      "   status: 2\n",
      "  success: False\n",
      "        x: array([ 6.58921517e+00, -8.10284991e-04, -3.90497227e-04])\n",
      "                    message: ['requested number of basinhopping iterations completed successfully']\n",
      "      minimization_failures: 362\n",
      "                       nfev: 45341\n",
      "                        nit: 500\n",
      "                          x: array([ 6.58921517e+00, -8.10284991e-04, -3.90497227e-04])\n"
     ]
    }
   ],
   "source": [
    "for meth in gradientMethods:\n",
    "    res = minimize(helic_func2, [-1,0,0], method = meth, tol =1e-8, jac=True)    \n",
    "    print meth, res, '\\n\\n'\n",
    "\n",
    "basinalgo(helic_func2,[-1,0,0])"
   ]
  },
  {
   "cell_type": "markdown",
   "metadata": {},
   "source": [
    "##### BFGS, Powell και Nelder-Mead"
   ]
  },
  {
   "cell_type": "code",
   "execution_count": 33,
   "metadata": {},
   "outputs": [
    {
     "name": "stdout",
     "output_type": "stream",
     "text": [
      "bfgs       fun: 5.617178766903007e-13\n",
      " hess_inv: array([[ 1.16152934e+08, -8.34964885e+05, -7.57437475e+03],\n",
      "       [-8.34964885e+05,  6.00214326e+03,  5.44462234e+01],\n",
      "       [-7.57437475e+03,  5.44462234e+01,  4.98836497e-01]])\n",
      "      jac: array([-7.89983584e-16, -3.22290236e-09,  3.71940305e-07])\n",
      "  message: 'Desired error not necessarily achieved due to precision loss.'\n",
      "     nfev: 807\n",
      "      nit: 69\n",
      "     njev: 159\n",
      "   status: 2\n",
      "  success: False\n",
      "        x: array([ 3.47437828e+02, -8.19813000e-05, -7.49255645e-07]) \n",
      "\n",
      "\n",
      "TypeError στην μέθοδο Powell \n",
      "\n",
      "\n",
      "nelder-mead  final_simplex: (array([[-2.66453526e-15,  7.91666667e-03,  3.33333333e-04],\n",
      "       [-9.86864911e-16,  7.91666667e-03,  3.33333333e-04],\n",
      "       [-4.51764826e-16,  7.91666667e-03,  3.33333333e-04],\n",
      "       [-4.60536958e-17,  7.91666667e-03,  3.33333333e-04]]), array([1.12222222e-05, 1.12222222e-05, 1.12222222e-05, 1.12222222e-05]))\n",
      "           fun: 1.1222222150797854e-05\n",
      "       message: 'Optimization terminated successfully.'\n",
      "          nfev: 264\n",
      "           nit: 62\n",
      "        status: 0\n",
      "       success: True\n",
      "             x: array([-2.66453526e-15,  7.91666667e-03,  3.33333333e-04]) \n",
      "\n",
      "\n"
     ]
    }
   ],
   "source": [
    "for meth in nogradientMethods:\n",
    "    try:        \n",
    "        res = minimize(helic_func, [-1,0,0], method = meth, tol =1e-8)    \n",
    "        print meth, res, '\\n\\n'\n",
    "    except TypeError:\n",
    "        print \"TypeError στην μέθοδο\", meth, '\\n\\n'"
   ]
  },
  {
   "cell_type": "markdown",
   "metadata": {},
   "source": [
    " <u><center><h4>Αποτελέσματα για την συνάρτηση Helical valey </h4></center></u>\n",
    " \n",
    " | Μέθοδος        | x*           | f(x*)  | Σημειώσεις|n iterations | f evaluations|\n",
    " | :-------------: |:----------------:| :-----:|:------:|:------:|:------:|\n",
    " | BFGS      | (3.474Ε+02, -8.198Ε-05, -7.492Ε-07) |  5.617Ε-13 | Desired error not necessarily achieved due to precision loss. |69|807|\n",
    " | Newton-CG      | (-1.   ,  0.   , 4.995)     |  2.495Ε+01|Optimization terminated successfully.|2|3|\n",
    " | CG | (-1., 0. ,5.001)      |   2.501Ε+01  | Desired error not necessarily achieved due to precision loss.|1|15|\n",
    " |Powell | Αποτυγχάνει| Αποτυγχάνει|TypeError|-|-|\n",
    " |Nelder-Mead|(-2.664Ε-15, 7.917Ε-03, 3.333Ε-04) |1.122Ε-05| Optimization terminated successfully. |62|264|\n",
    " |Basin Hopping|(-4.353E-05,4.252E-01,      1.4264E-05) |7.807E-06 | ABNORMAL_TERMINATION_IN_LNSRCH |15|84\n",
    " |<b>Αναμενόμενη τιμή</b>|(1, 0, 0) | 0.000E+00| - |-|-|"
   ]
  },
  {
   "cell_type": "markdown",
   "metadata": {},
   "source": [
    "### e) Συνάρτηση Rosenbrock"
   ]
  },
  {
   "cell_type": "code",
   "execution_count": 34,
   "metadata": {},
   "outputs": [],
   "source": [
    "''''\n",
    "x0 = (-1.2,1)\n",
    "x* = (1, 1)\n",
    "f(x*) = 0\n",
    "'''\n",
    "\n",
    "rosen = lambda x: scipy.optimize.rosen(x)\n",
    "drosen = lambda x: scipy.optimize.rosen_der(x)\n",
    "\n",
    "def rosen2(x):\n",
    "    f = rosen(x)\n",
    "    df = drosen(x)\n",
    "    return f,df"
   ]
  },
  {
   "cell_type": "markdown",
   "metadata": {},
   "source": [
    "#### Υπολογισμοί για την συνάρτηση Rosenbrock"
   ]
  },
  {
   "cell_type": "markdown",
   "metadata": {},
   "source": [
    "##### Newton-CG, CG και Basin-Hopping"
   ]
  },
  {
   "cell_type": "code",
   "execution_count": 35,
   "metadata": {},
   "outputs": [
    {
     "name": "stdout",
     "output_type": "stream",
     "text": [
      "Newton-CG      fun: 2.820436673169213e-16\n",
      "     jac: array([-4.83533341e-06,  2.42961908e-06])\n",
      " message: 'Optimization terminated successfully.'\n",
      "    nfev: 108\n",
      "    nhev: 0\n",
      "     nit: 88\n",
      "    njev: 503\n",
      "  status: 0\n",
      " success: True\n",
      "       x: array([1.00000002, 1.00000003]) \n",
      "\n",
      "CG      fun: 3.108363291788037e-21\n",
      "     jac: array([2.31330510e-11, 4.41424675e-11])\n",
      " message: 'Optimization terminated successfully.'\n",
      "    nfev: 80\n",
      "     nit: 37\n",
      "    njev: 79\n",
      "  status: 0\n",
      " success: True\n",
      "       x: array([1., 1.]) \n",
      "\n",
      "Basin-Hopping                         fun: 2.974726413997047e-19\n",
      " lowest_optimization_result:       fun: 2.974726413997047e-19\n",
      " hess_inv: <2x2 LbfgsInvHessProduct with dtype=float64>\n",
      "      jac: array([ 4.76909312e-09, -1.84701143e-09])\n",
      "  message: 'CONVERGENCE: NORM_OF_PROJECTED_GRADIENT_<=_PGTOL'\n",
      "     nfev: 26\n",
      "      nit: 20\n",
      "   status: 0\n",
      "  success: True\n",
      "        x: array([1., 1.])\n",
      "                    message: ['requested number of basinhopping iterations completed successfully']\n",
      "      minimization_failures: 0\n",
      "                       nfev: 12708\n",
      "                        nit: 500\n",
      "                          x: array([1., 1.])\n"
     ]
    }
   ],
   "source": [
    "for meth in gradientMethods:\n",
    "    res = minimize(rosen2, [-1.2,1], method = meth, tol =1e-8, jac=True)    \n",
    "    print meth, res, '\\n'    \n",
    "basinalgo(rosen2,[-1.2,1])"
   ]
  },
  {
   "cell_type": "markdown",
   "metadata": {},
   "source": [
    "##### BFGS, Powell και Nelder-Mead"
   ]
  },
  {
   "cell_type": "code",
   "execution_count": 36,
   "metadata": {},
   "outputs": [
    {
     "name": "stdout",
     "output_type": "stream",
     "text": [
      "bfgs       fun: 2.005589939414498e-11\n",
      " hess_inv: array([[0.49758137, 0.99543508],\n",
      "       [0.99543508, 1.99638311]])\n",
      "      jac: array([ 2.00307475e-10, -9.59676782e-11])\n",
      "  message: 'Optimization terminated successfully.'\n",
      "     nfev: 164\n",
      "      nit: 34\n",
      "     njev: 41\n",
      "   status: 0\n",
      "  success: True\n",
      "        x: array([0.99999552, 0.99999104]) \n",
      "\n",
      "\n",
      "Powell    direc: array([[1.04431143e-02, 2.21271461e-02],\n",
      "       [1.22640359e-06, 2.34961998e-06]])\n",
      "     fun: 9.023089641531086e-28\n",
      " message: 'Optimization terminated successfully.'\n",
      "    nfev: 850\n",
      "     nit: 23\n",
      "  status: 0\n",
      " success: True\n",
      "       x: array([1., 1.]) \n",
      "\n",
      "\n",
      "nelder-mead  final_simplex: (array([[1.        , 1.        ],\n",
      "       [1.        , 1.        ],\n",
      "       [1.        , 1.00000001]]), array([1.09908895e-18, 6.91811979e-18, 1.63410657e-17]))\n",
      "           fun: 1.0990889519195732e-18\n",
      "       message: 'Optimization terminated successfully.'\n",
      "          nfev: 219\n",
      "           nit: 117\n",
      "        status: 0\n",
      "       success: True\n",
      "             x: array([1., 1.]) \n",
      "\n",
      "\n"
     ]
    }
   ],
   "source": [
    "for meth in nogradientMethods:\n",
    "    N = len(nogradientMethods)        \n",
    "    try:                \n",
    "        res = minimize(rosen, [-1.2,1], method = meth, tol =1e-8)                    \n",
    "        print meth, res, '\\n\\n'        \n",
    "    except TypeError:\n",
    "        print \"TypeError στην μέθοδο\", meth, '\\n\\n'"
   ]
  },
  {
   "cell_type": "markdown",
   "metadata": {},
   "source": [
    " <u><center><h4>Αποτελέσματα για την συνάρτηση Rosenbrock </h4></center></u>\n",
    " \n",
    " | Μέθοδος        | x*           | f(x*)  | Σημειώσεις|n iterations | f evaluations|\n",
    " | :-------------: |:----------------:| :-----:|:------:|:------:|:------:|\n",
    " | BFGS      | (0.99999552,  0.99999104) |  2.005Ε-11 | Optimization terminated successfully. |34|164|\n",
    " | Newton-CG      | (1.00000002,  1.00000003)     |  2.820Ε-16| Optimization terminated successfully.  |88|108|\n",
    " | CG | (-1.01703014,  1.07468158)      |   4.231E+00  | Desired error not necessarily achieved due to precision loss.|1|15|\n",
    " |Powell | (1.0,1.0)| 9.023E-28|Optimization terminated successfully.|23|850|\n",
    " |Nelder-Mead|(1.0,1.0) |1.099E-18| Optimization terminated successfully. |117|219|\n",
    " |Basin Hopping|(1.0,1.0) |1.160E-19 | Success |22|28|\n",
    " |<b>Αναμενόμενη τιμή</b>|(1, 1) | 0.000E+00| - |-|-|"
   ]
  },
  {
   "cell_type": "markdown",
   "metadata": {},
   "source": [
    "### f) Συνάρτηση Wood (14)"
   ]
  },
  {
   "cell_type": "code",
   "execution_count": 37,
   "metadata": {},
   "outputs": [],
   "source": [
    "''''\n",
    "x0 = (-3,-1,-3,-1)\n",
    "x* = (1,1,1,1) \n",
    "f(x*) = 0\n",
    "'''\n",
    "f1e = lambda x: (10*(x[1] - x[0]*x[0]))\n",
    "f2e = lambda x: (1 - x[0])\n",
    "f3e = lambda x: np.sqrt(90)*(x[3] - x[2]*x[2])\n",
    "f4e = lambda x: (1 - x[2])\n",
    "f5e = lambda x: np.sqrt(10)*(x[1] + x[3] - 2)\n",
    "f6e = lambda x: (1/np.sqrt(10))*(x[1] - x[3])\n",
    "\n",
    "wood_func = lambda x: (square(f1e(x)) + square(f2e(x)) + square(f3e(x)) \n",
    "                      + square(f4e(x)) + square(f5e(x)) + square(f6e(x)))\n",
    "\n",
    "def wood_func2(x):\n",
    "    f = wood_func(x)\n",
    "    df=np.zeros(4)\n",
    "    df[0] = 2*100*(x[1]-x[0]*x[0])*(-2*x[0]) - 2*(1-x[0])\n",
    "    df[1] = 2*100*(x[1]-x[0]*x[0]) + 2*10*(x[1]+x[3]-2) + 0.1*2*(x[1]-x[3])\n",
    "    df[2] = 2*90*(x[3]-x[2]*x[2])*(-2*x[2]) - 2*(1-x[2])\n",
    "    df[3] = 2*90*(x[3]-x[2]*x[2]) + 2*10*(x[1]+x[3]-2) - 2*0.1*(x[1]-x[3])\n",
    "    return f,df"
   ]
  },
  {
   "cell_type": "markdown",
   "metadata": {},
   "source": [
    "#### Υπολογισμοί για την συνάρτηση Wood"
   ]
  },
  {
   "cell_type": "markdown",
   "metadata": {},
   "source": [
    "##### Newton-CG, CG και Basin-Hopping"
   ]
  },
  {
   "cell_type": "code",
   "execution_count": 38,
   "metadata": {},
   "outputs": [
    {
     "name": "stdout",
     "output_type": "stream",
     "text": [
      "Newton-CG      fun: 1.06581656222382e-16\n",
      "     jac: array([ 1.36193966e-06, -9.61642044e-07, -2.60666610e-06,  9.99349939e-07])\n",
      " message: 'Optimization terminated successfully.'\n",
      "    nfev: 239\n",
      "    nhev: 0\n",
      "     nit: 203\n",
      "    njev: 1743\n",
      "  status: 0\n",
      " success: True\n",
      "       x: array([1.00000001, 1.00000001, 0.99999999, 0.99999999]) \n",
      "\n",
      "\n",
      "CG      fun: 9.365649740319796e-23\n",
      "     jac: array([ 1.26703315e-10, -1.09292242e-10, -2.13938645e-10,  6.11019013e-11])\n",
      " message: 'Optimization terminated successfully.'\n",
      "    nfev: 141\n",
      "     nit: 62\n",
      "    njev: 141\n",
      "  status: 0\n",
      " success: True\n",
      "       x: array([1., 1., 1., 1.]) \n",
      "\n",
      "\n",
      "Basin-Hopping                         fun: 1.4732878867431036e-17\n",
      " lowest_optimization_result:       fun: 1.4732878867431036e-17\n",
      " hess_inv: <4x4 LbfgsInvHessProduct with dtype=float64>\n",
      "      jac: array([ 3.10136050e-09, -1.18862080e-08, -7.07028589e-08,  3.39994477e-08])\n",
      "  message: 'CONVERGENCE: NORM_OF_PROJECTED_GRADIENT_<=_PGTOL'\n",
      "     nfev: 24\n",
      "      nit: 22\n",
      "   status: 0\n",
      "  success: True\n",
      "        x: array([1.        , 1.        , 1.        , 0.99999999])\n",
      "                    message: ['requested number of basinhopping iterations completed successfully']\n",
      "      minimization_failures: 0\n",
      "                       nfev: 15427\n",
      "                        nit: 500\n",
      "                          x: array([1.        , 1.        , 1.        , 0.99999999])\n"
     ]
    }
   ],
   "source": [
    "for meth in gradientMethods:\n",
    "    res = minimize(wood_func2, [-3,-1,-3,-1], method = meth, tol =1e-8, jac=True)    \n",
    "    print meth, res, '\\n\\n'   \n",
    "\n",
    "basinalgo(rosen2,[-3,-1,-3,-1])"
   ]
  },
  {
   "cell_type": "markdown",
   "metadata": {},
   "source": [
    "##### BFGS, Powell και Nelder-Mead"
   ]
  },
  {
   "cell_type": "code",
   "execution_count": 39,
   "metadata": {},
   "outputs": [
    {
     "name": "stdout",
     "output_type": "stream",
     "text": [
      "bfgs       fun: 5.752568124345873e-13\n",
      " hess_inv: array([[ 0.14320309,  0.28445882, -0.13563519, -0.27218656],\n",
      "       [ 0.28445882,  0.57001854, -0.27182589, -0.54542434],\n",
      "       [-0.13563519, -0.27182589,  0.14295523,  0.28411303],\n",
      "       [-0.27218656, -0.54542434,  0.28411303,  0.57015097]])\n",
      "      jac: array([-3.67230804e-09,  2.17617517e-09,  5.94566076e-09, -2.62172259e-09])\n",
      "  message: 'Optimization terminated successfully.'\n",
      "     nfev: 600\n",
      "      nit: 87\n",
      "     njev: 100\n",
      "   status: 0\n",
      "  success: True\n",
      "        x: array([0.99999981, 0.99999964, 1.00000006, 1.00000014]) \n",
      "\n",
      "\n",
      "Powell    direc: array([[-1.96875244e-04, -3.78146933e-04,  1.80204391e-04,\n",
      "         3.63400715e-04],\n",
      "       [ 0.00000000e+00,  1.00000000e+00,  0.00000000e+00,\n",
      "         0.00000000e+00],\n",
      "       [ 7.95824879e-03,  1.75922976e-02,  1.26029587e-02,\n",
      "         3.66436008e-02],\n",
      "       [-1.54141571e-06, -5.60760229e-06, -1.91237846e-05,\n",
      "        -2.26290685e-05]])\n",
      "     fun: 3.259735600016998e-21\n",
      " message: 'Optimization terminated successfully.'\n",
      "    nfev: 1416\n",
      "     nit: 23\n",
      "  status: 0\n",
      " success: True\n",
      "       x: array([1., 1., 1., 1.]) \n",
      "\n",
      "\n",
      "nelder-mead  final_simplex: (array([[1.        , 1.        , 1.        , 1.        ],\n",
      "       [1.        , 1.        , 1.        , 1.        ],\n",
      "       [1.        , 0.99999999, 1.        , 1.00000001],\n",
      "       [1.        , 1.00000001, 1.        , 1.        ],\n",
      "       [1.        , 1.00000001, 1.        , 0.99999999]]), array([1.52590515e-16, 1.92475362e-16, 2.12970829e-16, 2.41340633e-16,\n",
      "       4.23789622e-16]))\n",
      "           fun: 1.5259051511452385e-16\n",
      "       message: 'Optimization terminated successfully.'\n",
      "          nfev: 655\n",
      "           nit: 387\n",
      "        status: 0\n",
      "       success: True\n",
      "             x: array([1., 1., 1., 1.]) \n",
      "\n",
      "\n"
     ]
    }
   ],
   "source": [
    "for meth in nogradientMethods:\n",
    "    N = len(nogradientMethods)        \n",
    "    try:                \n",
    "        res = minimize(wood_func, [-3,-1,-3,-1], method = meth, tol =1e-8)        \n",
    "        print meth, res, '\\n\\n'\n",
    "        \n",
    "    except TypeError:\n",
    "        print \"TypeError στην μέθοδο\", meth, '\\n\\n'"
   ]
  },
  {
   "cell_type": "markdown",
   "metadata": {},
   "source": [
    " <u><center><h4>Αποτελέσματα για την συνάρτηση Wood </h4></center></u>\n",
    " \n",
    " | Μέθοδος        | x*           | f(x*)  | Σημειώσεις| n iterations | f evaluations|\n",
    " | :-------------: |:----------------:| :-----:|:------:|:---:|:---:|\n",
    " | BFGS      | (0.99999981,  0.99999964,  1.00000006,  1.00000014) |  5.752Ε-13 | Optimization terminated successfully. |87|600|\n",
    " | Newton-CG | (1.00000001,  1.00000001,  0.99999999,  0.99999999)|  5.752Ε-13| Optimization terminated successfully.|203|239|\n",
    " | CG | (1.0,1.0,1.0,1.0)      |   1.845Ε-17  | Optimization terminated successfully.|79|168|\n",
    " |Powell | (1.0,1.0,1.0,1.0)| 3.260Ε-21|Optimization terminated successfully.|23|1416|\n",
    " |Nelder-Mead|(1.0,1.0,1.0,1.0) |1.526Ε-16| Optimization terminated successfully.|387|655|\n",
    " |Basin Hopping|(1.0,1.0,1.0,1.0) |1.197Ε-17 | Success |23|26|\n",
    " |<b>Αναμενόμενη τιμή</b>|(1, 1,1,1) | 0.000E+00| -|-|-|"
   ]
  },
  {
   "cell_type": "markdown",
   "metadata": {},
   "source": [
    "### g) Συνάρτηση των Freudestein και Roth (2)"
   ]
  },
  {
   "cell_type": "code",
   "execution_count": 40,
   "metadata": {},
   "outputs": [],
   "source": [
    "''''\n",
    "x0 = (0.5,-2)\n",
    "x* = (5,4) \n",
    "f(x*) = 0\n",
    "x' = (11.41..., -0.8968...)\n",
    "f(x') = 48.9842...\n",
    "'''\n",
    "f1e = lambda x: -13 + x[0] + ((5-x[1])*x[1]-2)*x[1]\n",
    "f2e = lambda x: -29 + x[0] + ((x[1]+1)*x[1]-14)*x[1]\n",
    "\n",
    "fr_func = lambda x: (square(f1e(x)) + square(f2e(x)))\n",
    "\n",
    "def fr_func2(x):\n",
    "    f = fr_func(x)\n",
    "    df=np.zeros(2)\n",
    "    df[0] = 2*(-13 + x[0] + ((5-x[1])*x[1]-2)*x[1] + -29 + x[0] + ((x[1]+1)*x[1]-14)*x[1])\n",
    "    df[1] = (2*(-13 + x[0] + ((5-x[1])*x[1]-2)*x[1])*(((5-x[1])*x[1]-2) + x[1]*(5-2*x[1])) + \n",
    "            2*(-29 + x[0] + ((x[1]+1)*x[1]-14)*x[1])*(((x[1]+1)*x[1]-14)+x[1]*(1 + 2*x[1])))\n",
    "    return f,df"
   ]
  },
  {
   "cell_type": "markdown",
   "metadata": {},
   "source": [
    "#### Υπολογισμοί για την συνάρτηση Freudestein και Roth"
   ]
  },
  {
   "cell_type": "markdown",
   "metadata": {},
   "source": [
    "##### Newton-CG, CG και Basin-Hopping"
   ]
  },
  {
   "cell_type": "code",
   "execution_count": 41,
   "metadata": {},
   "outputs": [
    {
     "name": "stdout",
     "output_type": "stream",
     "text": [
      "Newton-CG      fun: 48.98425367924003\n",
      "     jac: array([ 8.8257196e-07, -1.4047721e-05])\n",
      " message: 'Optimization terminated successfully.'\n",
      "    nfev: 14\n",
      "    nhev: 0\n",
      "     nit: 11\n",
      "    njev: 56\n",
      "  status: 0\n",
      " success: True\n",
      "       x: array([11.41277905, -0.89680525]) \n",
      "\n",
      "\n",
      "CG      fun: 48.98425367923999\n",
      "     jac: array([-1.45765778e-07,  2.45844743e-06])\n",
      " message: 'Desired error not necessarily achieved due to precision loss.'\n",
      "    nfev: 126\n",
      "     nit: 14\n",
      "    njev: 114\n",
      "  status: 2\n",
      " success: False\n",
      "       x: array([11.41277899, -0.89680525]) \n",
      "\n",
      "\n",
      "Basin-Hopping                         fun: 48.98425367924\n",
      " lowest_optimization_result:       fun: 48.98425367924\n",
      " hess_inv: <2x2 LbfgsInvHessProduct with dtype=float64>\n",
      "      jac: array([-1.40308817e-07,  2.46476435e-06])\n",
      "  message: 'CONVERGENCE: NORM_OF_PROJECTED_GRADIENT_<=_PGTOL'\n",
      "     nfev: 17\n",
      "      nit: 16\n",
      "   status: 0\n",
      "  success: True\n",
      "        x: array([11.41277899, -0.89680525])\n",
      "                    message: ['requested number of basinhopping iterations completed successfully']\n",
      "      minimization_failures: 0\n",
      "                       nfev: 8198\n",
      "                        nit: 500\n",
      "                          x: array([11.41277899, -0.89680525])\n"
     ]
    }
   ],
   "source": [
    "for meth in gradientMethods:\n",
    "    res = minimize(fr_func2, [0.5, -2], method = meth, tol =1e-8, jac=True)\n",
    "    print meth, res, '\\n\\n'    \n",
    "basinalgo(fr_func2,[0.5, -2])"
   ]
  },
  {
   "cell_type": "markdown",
   "metadata": {},
   "source": [
    "##### BFGS, Powell και Nelder-Mead"
   ]
  },
  {
   "cell_type": "code",
   "execution_count": 42,
   "metadata": {},
   "outputs": [
    {
     "name": "stdout",
     "output_type": "stream",
     "text": [
      "bfgs       fun: 48.984253679240055\n",
      " hess_inv: array([[1.4291669 , 0.08624278],\n",
      "       [0.08624278, 0.00626799]])\n",
      "      jac: array([0., 0.])\n",
      "  message: 'Optimization terminated successfully.'\n",
      "     nfev: 44\n",
      "      nit: 10\n",
      "     njev: 11\n",
      "   status: 0\n",
      "  success: True\n",
      "        x: array([11.4127789 , -0.89680526]) \n",
      "\n",
      "\n",
      "Powell    direc: array([[10.86615593,  0.39827488],\n",
      "       [ 0.3135128 ,  0.03120398]])\n",
      "     fun: 48.98425367924001\n",
      " message: 'Optimization terminated successfully.'\n",
      "    nfev: 180\n",
      "     nit: 5\n",
      "  status: 0\n",
      " success: True\n",
      "       x: array([11.41277923, -0.89680524]) \n",
      "\n",
      "\n",
      "nelder-mead  final_simplex: (array([[11.41277892, -0.89680526],\n",
      "       [11.41277893, -0.89680526],\n",
      "       [11.41277893, -0.89680526]]), array([48.98425368, 48.98425368, 48.98425368]))\n",
      "           fun: 48.98425367924001\n",
      "       message: 'Optimization terminated successfully.'\n",
      "          nfev: 172\n",
      "           nit: 87\n",
      "        status: 0\n",
      "       success: True\n",
      "             x: array([11.41277892, -0.89680526]) \n",
      "\n",
      "\n"
     ]
    }
   ],
   "source": [
    "for meth in nogradientMethods:\n",
    "    try:        \n",
    "        res = minimize(fr_func, [0.5, -2], method = meth, tol =1e-8)    \n",
    "        print meth, res, '\\n\\n'\n",
    "    except TypeError:\n",
    "        print \"TypeError στην μέθοδο\", meth, '\\n\\n'"
   ]
  },
  {
   "cell_type": "markdown",
   "metadata": {},
   "source": [
    " <u><center><h4>Αποτελέσματα για την συνάρτηση των Freudestein και Roth</h4></center></u>\n",
    " \n",
    " | Μέθοδος        | x*           | f(x*)  | Σημειώσεις| n iterations | f evaluations|\n",
    " | :-------------: |:----------------:| :-----:|:------:|:---:|:---:|\n",
    " | BFGS      | (11.4127789 ,  -0.89680526) |  48.984253E+08 | Σφάλμα ακρίβειας|10|204|\n",
    " | Newton-CG | (11.41277905,  -0.89680525) |  48.984253E+08 | Επιτυχής τερματισμός|11|14|\n",
    " | CG | (7.94388211, -1.0549995)     |   54.677406E+08  | Σφάλμα ακρίβειας|4|29|\n",
    " |Powell | (11.41277923,  -0.89680524)| 48.984253E+08|Επιτυχής τερματισμός|5|180|\n",
    " |Nelder-Mead|(11.41277892,  -0.89680526) |48.984253E+09| Επιτυχής τερματισμός|87|172|\n",
    " |Basin Hopping|(11.41277894,  -0.89680526) |48.984253E+09 | Επιτυχής τερματισμός |17|18|\n",
    " |<b>Αναμενόμενη τιμή</b>|(11.41..., -0.8968...) | 48.9842| -|-|-|"
   ]
  },
  {
   "cell_type": "code",
   "execution_count": null,
   "metadata": {},
   "outputs": [],
   "source": []
  }
 ],
 "metadata": {
  "kernelspec": {
   "display_name": "Python 2",
   "language": "python",
   "name": "python2"
  },
  "language_info": {
   "codemirror_mode": {
    "name": "ipython",
    "version": 2
   },
   "file_extension": ".py",
   "mimetype": "text/x-python",
   "name": "python",
   "nbconvert_exporter": "python",
   "pygments_lexer": "ipython2",
   "version": "2.7.12"
  }
 },
 "nbformat": 4,
 "nbformat_minor": 2
}
